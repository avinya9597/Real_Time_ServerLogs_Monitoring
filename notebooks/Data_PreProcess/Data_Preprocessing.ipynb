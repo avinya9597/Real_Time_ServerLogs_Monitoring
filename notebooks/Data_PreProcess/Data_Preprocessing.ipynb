{
 "cells": [
  {
   "cell_type": "code",
   "execution_count": 52,
   "id": "24560597",
   "metadata": {},
   "outputs": [],
   "source": [
    "import re\n",
    "# !pip install mrjob\n",
    "from collections import defaultdict\n",
    "from tqdm import tqdm"
   ]
  },
  {
   "cell_type": "markdown",
   "id": "ea032d88",
   "metadata": {},
   "source": [
    "## Data Cleaning - Parse the logs"
   ]
  },
  {
   "cell_type": "markdown",
   "id": "5cb97acd",
   "metadata": {},
   "source": [
    "#### Provide the log pattern as per the input data (logs)\n"
   ]
  },
  {
   "cell_type": "code",
   "execution_count": 49,
   "id": "4c8b72e1",
   "metadata": {},
   "outputs": [],
   "source": [
    "log_pattern = r'(?P<ip>\\d+\\.\\d+\\.\\d+\\.\\d+) - - \\[(?P<timestamp>.*?)\\] \"(?P<method>\\S+) (?P<url>\\S+) (?P<http_version>.*?)\" (?P<status_code>\\d+) (?P<response_size>\\d+) \"(?P<referrer>.*?)\" \"(?P<user_agent>.*?)\"'"
   ]
  },
  {
   "cell_type": "code",
   "execution_count": 62,
   "id": "cc61eda6",
   "metadata": {},
   "outputs": [],
   "source": [
    "# Function to parse log entries\n",
    "def parse_log_entry(log_entry):\n",
    "    match = re.match(log_pattern, log_entry)\n",
    "    if match:\n",
    "        return match.groupdict()\n",
    "    else:\n",
    "        return None\n",
    "\n",
    "# Function to read log file and parse log entries\n",
    "def parse_log_file(file_path):\n",
    "    parsed_logs = []\n",
    "    with open(file_path, 'r') as file:\n",
    "        for line in file:\n",
    "            log_entry = line.strip()\n",
    "            parsed_log_entry = parse_log_entry(log_entry)\n",
    "            if parsed_log_entry:\n",
    "                parsed_logs.append(parsed_log_entry)\n",
    "    return parsed_logs"
   ]
  },
  {
   "cell_type": "code",
   "execution_count": 63,
   "id": "e2ec664d",
   "metadata": {},
   "outputs": [
    {
     "name": "stderr",
     "output_type": "stream",
     "text": [
      "IOPub data rate exceeded.\n",
      "The notebook server will temporarily stop sending output\n",
      "to the client in order to avoid crashing it.\n",
      "To change this limit, set the config variable\n",
      "`--NotebookApp.iopub_data_rate_limit`.\n",
      "\n",
      "Current values:\n",
      "NotebookApp.iopub_data_rate_limit=1000000.0 (bytes/sec)\n",
      "NotebookApp.rate_limit_window=3.0 (secs)\n",
      "\n"
     ]
    }
   ],
   "source": [
    "file_path = '../Downloads/log_file.log'\n",
    "parsed_logs = parse_log_file(file_path)\n",
    "#     for log in parsed_logs:\n",
    "#         print(log)\n",
    "\n",
    "if __name__ == \"__main__\":\n",
    "    main()"
   ]
  },
  {
   "cell_type": "code",
   "execution_count": 64,
   "id": "6e1159eb",
   "metadata": {},
   "outputs": [
    {
     "data": {
      "text/plain": [
       "{'ip': '87.116.74.253',\n",
       " 'timestamp': '28/Feb/2022:14:04:44 +0200',\n",
       " 'method': 'POST',\n",
       " 'url': '/wp-admin/admin-ajax.php',\n",
       " 'http_version': 'HTTP/2.0',\n",
       " 'status_code': '200',\n",
       " 'response_size': '47',\n",
       " 'referrer': 'https://nargile.bg/wp-admin/admin.php?page=wc-settings',\n",
       " 'user_agent': 'Mozilla/5.0 (Macintosh; Intel Mac OS X 10_15_7) AppleWebKit/537.36 (KHTML, like Gecko) Chrome/98.0.4758.109 Safari/537.36'}"
      ]
     },
     "execution_count": 64,
     "metadata": {},
     "output_type": "execute_result"
    }
   ],
   "source": [
    "parsed_logs[0]"
   ]
  },
  {
   "cell_type": "code",
   "execution_count": 36,
   "id": "d658e090",
   "metadata": {},
   "outputs": [
    {
     "data": {
      "text/plain": [
       "list"
      ]
     },
     "execution_count": 36,
     "metadata": {},
     "output_type": "execute_result"
    }
   ],
   "source": [
    "type(parsed_logs)"
   ]
  },
  {
   "cell_type": "code",
   "execution_count": null,
   "id": "0777eeb5",
   "metadata": {},
   "outputs": [],
   "source": [
    "# **************************************************************************************************************************"
   ]
  }
 ],
 "metadata": {
  "kernelspec": {
   "display_name": "Python 3 (ipykernel)",
   "language": "python",
   "name": "python3"
  },
  "language_info": {
   "codemirror_mode": {
    "name": "ipython",
    "version": 3
   },
   "file_extension": ".py",
   "mimetype": "text/x-python",
   "name": "python",
   "nbconvert_exporter": "python",
   "pygments_lexer": "ipython3",
   "version": "3.11.8"
  }
 },
 "nbformat": 4,
 "nbformat_minor": 5
}
