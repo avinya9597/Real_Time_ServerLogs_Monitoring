{
 "cells": [
  {
   "cell_type": "markdown",
   "id": "dfef72d9",
   "metadata": {},
   "source": [
    "## Anomaly Detection\n",
    "\n",
    "### MapReduce can be employed to detect anomalies or outliers in the log data. This could involve analyzing metrics such as request rates, response times, error rates, or resource utilization to identify deviations from normal behavior that may indicate performance issues, security threats, or system failures.\n"
   ]
  },
  {
   "cell_type": "code",
   "execution_count": 1,
   "id": "56dd3d15",
   "metadata": {},
   "outputs": [],
   "source": [
    "def map_function_anomaly(log):\n",
    "    # Extract relevant information from the log\n",
    "    timestamp = log['timestamp']\n",
    "    status_code = log['status_code']\n",
    "    response_size = int(log['response_size'])\n",
    "    \n",
    "    # Extract hour from timestamp\n",
    "    hour = timestamp.split(':')[1]\n",
    "    \n",
    "    # Emit key-value pairs (hour, (1, response_size, status_code))\n",
    "    yield (hour, (1, response_size, status_code))"
   ]
  },
  {
   "cell_type": "code",
   "execution_count": 2,
   "id": "26694a02",
   "metadata": {},
   "outputs": [],
   "source": [
    "def reduce_function_anomaly(pairs):\n",
    "    # Aggregate counts, total response size, and error counts for each hour\n",
    "    hour_metrics = defaultdict(lambda: (0, 0, 0))  # (count, total_response_size, error_count)\n",
    "    for hour, metrics in pairs:\n",
    "        count, response_size, status_code = metrics\n",
    "        hour_metrics[hour] = (hour_metrics[hour][0] + count,\n",
    "                              hour_metrics[hour][1] + response_size,\n",
    "                              hour_metrics[hour][2] + (1 if status_code != '200' else 0))\n",
    "    return hour_metrics.items()"
   ]
  },
  {
   "cell_type": "code",
   "execution_count": null,
   "id": "84f347a5",
   "metadata": {},
   "outputs": [],
   "source": [
    "# parsed logs\n",
    "logs = parsed_logs"
   ]
  },
  {
   "cell_type": "code",
   "execution_count": null,
   "id": "d814f437",
   "metadata": {},
   "outputs": [],
   "source": [
    "# Map phase for anomaly detection\n",
    "mapped_pairs_anomaly = [result for log in logs for result in map_function_anomaly(log)]"
   ]
  },
  {
   "cell_type": "code",
   "execution_count": null,
   "id": "6c82837a",
   "metadata": {},
   "outputs": [],
   "source": [
    "mapped_pairs_anomaly[0:5]"
   ]
  },
  {
   "cell_type": "code",
   "execution_count": null,
   "id": "9abab16e",
   "metadata": {},
   "outputs": [],
   "source": [
    "# Reduce phase for anomaly detection\n",
    "reduced_output_anomaly = reduce_function_anomaly(mapped_pairs_anomaly)"
   ]
  },
  {
   "cell_type": "code",
   "execution_count": null,
   "id": "cfa6cb7c",
   "metadata": {},
   "outputs": [],
   "source": [
    "reduced_output_anomaly"
   ]
  },
  {
   "cell_type": "markdown",
   "id": "0ada856b",
   "metadata": {},
   "source": [
    "#### The output indicates that for the hour , the average response size and the error rate giving insights into the behavior of your system over time. This information can be valuable for identifying anomalies or trends in the log data.\n",
    "\n",
    "#### Hour: The hour of the day for which the metrics are calculated.\n",
    "#### Average Response Size: The average size of responses received during that hour.\n",
    "#### Error Rate: The percentage of requests that resulted in an error during that hour."
   ]
  },
  {
   "cell_type": "code",
   "execution_count": null,
   "id": "fef5cb97",
   "metadata": {},
   "outputs": [],
   "source": [
    "# Output the result\n",
    "for hour, metrics in reduced_output_anomaly:\n",
    "    count, total_response_size, error_count = metrics\n",
    "    average_response_size = total_response_size / count if count > 0 else 0\n",
    "    error_rate = (error_count / count) * 100 if count > 0 else 0\n",
    "    print(f'Hour: {hour}, Average Response Size: {average_response_size}, Error Rate: {error_rate}%')"
   ]
  },
  {
   "cell_type": "markdown",
   "id": "fa534dfb",
   "metadata": {},
   "source": [
    "### Define thresholds for error rate and response size"
   ]
  },
  {
   "cell_type": "code",
   "execution_count": null,
   "id": "0a6a7e1c",
   "metadata": {},
   "outputs": [],
   "source": [
    "# Define thresholds\n",
    "error_rate_threshold = 5  # 5% error rate threshold\n",
    "response_size_lower_threshold = 20000  # Lower response size threshold\n",
    "response_size_upper_threshold = 60000  # Upper response size threshold\n",
    "\n",
    "# Output the result with anomaly detection\n",
    "for hour, metrics in reduced_output_anomaly:\n",
    "    count, total_response_size, error_count = metrics\n",
    "    average_response_size = total_response_size / count if count > 0 else 0\n",
    "    error_rate = (error_count / count) * 100 if count > 0 else 0\n",
    "    \n",
    "    # Check for anomalies\n",
    "    anomaly_detected = False\n",
    "    if error_rate > error_rate_threshold:\n",
    "        anomaly_detected = True\n",
    "        anomaly_type = 'High Error Rate'\n",
    "    elif average_response_size < response_size_lower_threshold:\n",
    "        anomaly_detected = True\n",
    "        anomaly_type = 'Low Average Response Size'\n",
    "    elif average_response_size > response_size_upper_threshold:\n",
    "        anomaly_detected = True\n",
    "        anomaly_type = 'High Average Response Size'\n",
    "    \n",
    "    # Print the result\n",
    "    if anomaly_detected:\n",
    "        print(f'Hour: {hour}, Average Response Size: {average_response_size}, Error Rate: {error_rate}%, Anomaly Detected: {anomaly_type}')"
   ]
  },
  {
   "cell_type": "markdown",
   "id": "fd01155b",
   "metadata": {},
   "source": [
    "#### Hour 3 and Hour 4 are flagged as anomalies due to their high average response sizes.\n",
    "Hour 5 is flagged as an anomaly due to its high error rate.\n",
    "This indicates that during these hours, there were significant deviations from normal behavior, either in terms of response size or error rate, which may require further investigation or action. This approach helps in proactively identifying potential issues or unusual patterns in the log data."
   ]
  },
  {
   "cell_type": "code",
   "execution_count": null,
   "id": "c0435027",
   "metadata": {},
   "outputs": [],
   "source": [
    "#***************************************************************************************************************************"
   ]
  }
 ],
 "metadata": {
  "kernelspec": {
   "display_name": "Python 3 (ipykernel)",
   "language": "python",
   "name": "python3"
  },
  "language_info": {
   "codemirror_mode": {
    "name": "ipython",
    "version": 3
   },
   "file_extension": ".py",
   "mimetype": "text/x-python",
   "name": "python",
   "nbconvert_exporter": "python",
   "pygments_lexer": "ipython3",
   "version": "3.11.8"
  }
 },
 "nbformat": 4,
 "nbformat_minor": 5
}
