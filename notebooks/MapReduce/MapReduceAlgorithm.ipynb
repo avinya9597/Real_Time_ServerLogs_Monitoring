{
 "cells": [
  {
   "cell_type": "markdown",
   "id": "1768aa38",
   "metadata": {},
   "source": [
    "## MapReduce Algorithm"
   ]
  },
  {
   "cell_type": "markdown",
   "id": "bce811bc",
   "metadata": {},
   "source": [
    "### Hadoop MapReduce logic  identify patterns and trends. MapReduce jobs  count the occurrence of specific log messages, identify common error patterns, or detect unusual access patterns."
   ]
  },
  {
   "cell_type": "code",
   "execution_count": 1,
   "id": "3dbe26c2",
   "metadata": {},
   "outputs": [],
   "source": [
    "def map_function(log):\n",
    "    # Extract relevant information from the log\n",
    "    url = log['url']\n",
    "    status_code = log['status_code']\n",
    "    \n",
    "    # Emit key-value pairs (pattern, 1)\n",
    "    if status_code != '200':\n",
    "        yield ('error', 1)\n",
    "    \n",
    "    if '/wp-content/' in url:\n",
    "        yield ('wp_content', 1)"
   ]
  },
  {
   "cell_type": "code",
   "execution_count": 2,
   "id": "7cee5f8b",
   "metadata": {},
   "outputs": [],
   "source": [
    "def reduce_function(pairs):\n",
    "    # Aggregate counts for each pattern\n",
    "    pattern_counts = defaultdict(int)\n",
    "    for pattern, count in pairs:\n",
    "        pattern_counts[pattern] += count\n",
    "    return pattern_counts.items()"
   ]
  },
  {
   "cell_type": "code",
   "execution_count": null,
   "id": "03bcf627",
   "metadata": {},
   "outputs": [],
   "source": [
    "# parsed logs\n",
    "logs = parsed_logs\n",
    "\n",
    "# Map phase\n",
    "mapped_pairs = [result for log in logs for result in map_function(log)]\n",
    "\n",
    "# Reduce phase\n",
    "reduced_output = reduce_function(mapped_pairs)"
   ]
  },
  {
   "cell_type": "markdown",
   "id": "85049809",
   "metadata": {},
   "source": [
    "## Output Response from MapReduce"
   ]
  },
  {
   "cell_type": "code",
   "execution_count": null,
   "id": "4ab5582c",
   "metadata": {},
   "outputs": [],
   "source": [
    "# Output the result\n",
    "for pattern, count in tqdm(reduced_output):\n",
    "    print(f'{pattern}: {count}')"
   ]
  },
  {
   "cell_type": "code",
   "execution_count": null,
   "id": "c38ade62",
   "metadata": {},
   "outputs": [],
   "source": [
    "mapped_pairs[0:10]"
   ]
  },
  {
   "cell_type": "code",
   "execution_count": null,
   "id": "1beeb967",
   "metadata": {},
   "outputs": [],
   "source": [
    "reduced_output"
   ]
  },
  {
   "cell_type": "code",
   "execution_count": null,
   "id": "00400fa1",
   "metadata": {},
   "outputs": [],
   "source": [
    "#***************************************************************************************************************************"
   ]
  }
 ],
 "metadata": {
  "kernelspec": {
   "display_name": "Python 3 (ipykernel)",
   "language": "python",
   "name": "python3"
  },
  "language_info": {
   "codemirror_mode": {
    "name": "ipython",
    "version": 3
   },
   "file_extension": ".py",
   "mimetype": "text/x-python",
   "name": "python",
   "nbconvert_exporter": "python",
   "pygments_lexer": "ipython3",
   "version": "3.11.8"
  }
 },
 "nbformat": 4,
 "nbformat_minor": 5
}
