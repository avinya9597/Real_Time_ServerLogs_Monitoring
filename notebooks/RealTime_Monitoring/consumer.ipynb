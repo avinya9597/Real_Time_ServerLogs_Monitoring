{
 "cells": [
  {
   "cell_type": "markdown",
   "id": "439a74d5",
   "metadata": {},
   "source": [
    "### Apache Kafka is a distributed streaming platform that allows for building real-time data pipelines and applications. It is used as the messaging backbone for ingesting and processing streaming log data."
   ]
  },
  {
   "cell_type": "markdown",
   "id": "83e10100",
   "metadata": {},
   "source": [
    "### Apache Kafka: Continuously ingest streaming log data into Kafka topics.\n",
    "\n",
    "1. We first set up a Kafka producer to send messages to the Kafka broker running on 'localhost:9092'.\n",
    "2. We define parsed log messages in the form of dictionaries. These messages contain the parsed log data, including hour, status code, response size, error count, and request count.\n",
    "3. We then convert each log message to JSON format and send it to the 'log-topic' Kafka topic using the producer."
   ]
  },
  {
   "cell_type": "code",
   "execution_count": 1,
   "id": "18b46384",
   "metadata": {},
   "outputs": [],
   "source": [
    "# !pip install kafka-python\n",
    "from kafka import KafkaConsumer\n",
    "import json"
   ]
  },
  {
   "cell_type": "code",
   "execution_count": null,
   "id": "c0ed3659",
   "metadata": {},
   "outputs": [],
   "source": [
    "# Set up Kafka producer to send parsed log messages\n",
    "producer = KafkaProducer(bootstrap_servers='localhost:9092')\n",
    "\n",
    "# Produce parsed log messages to the 'log-analytics' Kafka topic\n",
    "for log_data in parsed_logs:\n",
    "    # Convert log data to JSON format\n",
    "    message = json.dumps(log_data).encode('utf-8')\n",
    "    \n",
    "    # Send log message to Kafka\n",
    "    producer.send('log-analytics', value=message)\n",
    "\n",
    "# Flush the producer to ensure all messages are sent\n",
    "producer.flush()"
   ]
  },
  {
   "cell_type": "code",
   "execution_count": null,
   "id": "7d3dbd1d",
   "metadata": {},
   "outputs": [],
   "source": [
    "#***************************************************************************************************************************"
   ]
  }
 ],
 "metadata": {
  "kernelspec": {
   "display_name": "Python 3 (ipykernel)",
   "language": "python",
   "name": "python3"
  },
  "language_info": {
   "codemirror_mode": {
    "name": "ipython",
    "version": 3
   },
   "file_extension": ".py",
   "mimetype": "text/x-python",
   "name": "python",
   "nbconvert_exporter": "python",
   "pygments_lexer": "ipython3",
   "version": "3.11.8"
  }
 },
 "nbformat": 4,
 "nbformat_minor": 5
}
